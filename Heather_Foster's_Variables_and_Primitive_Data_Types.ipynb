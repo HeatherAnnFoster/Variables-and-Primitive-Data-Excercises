{
  "nbformat": 4,
  "nbformat_minor": 0,
  "metadata": {
    "colab": {
      "provenance": [],
      "include_colab_link": true
    },
    "kernelspec": {
      "name": "python3",
      "display_name": "Python 3"
    },
    "language_info": {
      "name": "python"
    }
  },
  "cells": [
    {
      "cell_type": "markdown",
      "metadata": {
        "id": "view-in-github",
        "colab_type": "text"
      },
      "source": [
        "<a href=\"https://colab.research.google.com/github/HeatherAnnFoster/Variables-and-Primitive-Data-Excercises/blob/main/Heather_Foster's_Variables_and_Primitive_Data_Types.ipynb\" target=\"_parent\"><img src=\"https://colab.research.google.com/assets/colab-badge.svg\" alt=\"Open In Colab\"/></a>"
      ]
    },
    {
      "cell_type": "markdown",
      "source": [
        "# Variables and Primitive Data Types Practice"
      ],
      "metadata": {
        "id": "zy9NuR2fuGeT"
      }
    },
    {
      "cell_type": "markdown",
      "source": [
        "# Task 0\n",
        "Print the string 'Hello World!'"
      ],
      "metadata": {
        "id": "uyujPC7qRJlm"
      }
    },
    {
      "cell_type": "code",
      "source": [
        "print(\"Hello World\")"
      ],
      "metadata": {
        "id": "dtKQsi98RbQf",
        "colab": {
          "base_uri": "https://localhost:8080/"
        },
        "outputId": "aedf46b3-b557-41b0-d073-f760a6f4faf8"
      },
      "execution_count": null,
      "outputs": [
        {
          "output_type": "stream",
          "name": "stdout",
          "text": [
            "Hello World\n"
          ]
        }
      ]
    },
    {
      "cell_type": "markdown",
      "source": [
        "## Task 1a\n",
        "\n",
        "Define a variable **distance** that points to 140.\n",
        "\n",
        "Define a variable **time** that points to 3.\n",
        "\n",
        "Define a variable **speed** that points to the calculation for the speed. Be sure to use the variables names in your calculation. (Speed = distance/time)  \n",
        "\n",
        "Print the speed using print(speed)"
      ],
      "metadata": {
        "id": "iHQFHZyXuM0k"
      }
    },
    {
      "cell_type": "code",
      "execution_count": null,
      "metadata": {
        "id": "LlQ8wB57t9n0",
        "colab": {
          "base_uri": "https://localhost:8080/"
        },
        "outputId": "0619e8df-c1c0-4747-98b1-cb3ad190e084"
      },
      "outputs": [
        {
          "output_type": "stream",
          "name": "stdout",
          "text": [
            "140\n",
            "3\n"
          ]
        },
        {
          "output_type": "execute_result",
          "data": {
            "text/plain": [
              "46.666666666666664"
            ]
          },
          "metadata": {},
          "execution_count": 32
        }
      ],
      "source": [
        "for x in range (140, 144, 5):\n",
        "  print(x)\n",
        "for y in range (3,4):\n",
        "  print(y)\n",
        "# divide the number on the left with the number on the right\n",
        "140/3"
      ]
    },
    {
      "cell_type": "markdown",
      "source": [
        "#Task 1b\n",
        "Build on your previous code.\n",
        "\n",
        "Instead of just printing speed, print an f statement that says:\n",
        "\n",
        "If it takes -- hours to travel -- miles, the speed is -- miles per hour.  \n",
        "\n",
        "Fill in the blanks with the appropriate variables."
      ],
      "metadata": {
        "id": "h7juifK_vMXb"
      }
    },
    {
      "cell_type": "code",
      "source": [
        "time = 3\n",
        "distance = 140\n",
        "speed = 46.67\n",
        "print (f\"If it takes {time} hours to travel {distance} miles, the speed is {speed} miles per hour.\")\n"
      ],
      "metadata": {
        "id": "dt_bJZCovkvP",
        "colab": {
          "base_uri": "https://localhost:8080/"
        },
        "outputId": "f1aab99c-d1d7-46c1-a750-3b691611328a"
      },
      "execution_count": null,
      "outputs": [
        {
          "output_type": "stream",
          "name": "stdout",
          "text": [
            "If it takes 3 hours to travel 140 miles, the speed is 46.67 miles per hour.\n"
          ]
        }
      ]
    },
    {
      "cell_type": "markdown",
      "source": [
        "# Task 1c\n",
        "Check the data type of all three of your variables"
      ],
      "metadata": {
        "id": "KOy7i12dwjkE"
      }
    },
    {
      "cell_type": "code",
      "source": [
        "time = 3\n",
        "print (f\"{time} is interger.\")"
      ],
      "metadata": {
        "id": "QdUNyzrAxHiD",
        "colab": {
          "base_uri": "https://localhost:8080/"
        },
        "outputId": "2825c5b8-0ee4-4751-8986-cb4e34a462ba"
      },
      "execution_count": null,
      "outputs": [
        {
          "output_type": "stream",
          "name": "stdout",
          "text": [
            "3 is interger.\n"
          ]
        }
      ]
    },
    {
      "cell_type": "code",
      "source": [
        "distance = 140\n",
        "print (f\"{distance} is interger.\")"
      ],
      "metadata": {
        "id": "aAOB3_Q6xSYs",
        "colab": {
          "base_uri": "https://localhost:8080/"
        },
        "outputId": "c07f32f6-c82b-42e8-e55a-5260b9ad405e"
      },
      "execution_count": null,
      "outputs": [
        {
          "output_type": "stream",
          "name": "stdout",
          "text": [
            "140 is interger.\n"
          ]
        }
      ]
    },
    {
      "cell_type": "code",
      "source": [
        "speed = 46.67\n",
        "print (f\"{speed} is float.\")"
      ],
      "metadata": {
        "id": "_U8xxGQbxU19",
        "colab": {
          "base_uri": "https://localhost:8080/"
        },
        "outputId": "01f817b9-8445-460f-be2b-fb2d0106b9f6"
      },
      "execution_count": null,
      "outputs": [
        {
          "output_type": "stream",
          "name": "stdout",
          "text": [
            "46.67 is float.\n"
          ]
        }
      ]
    },
    {
      "cell_type": "markdown",
      "source": [
        "# Task 1d\n",
        "Change the data type of time from integer to float.\n",
        "\n",
        "Recheck the data type to confirm it is a float."
      ],
      "metadata": {
        "id": "OFz65OX-xcHa"
      }
    },
    {
      "cell_type": "code",
      "source": [
        "time = 3.5\n",
        "print (F\"{time} is float\")\n"
      ],
      "metadata": {
        "id": "RxodwaNpxaQm",
        "colab": {
          "base_uri": "https://localhost:8080/"
        },
        "outputId": "506b9c99-88cb-49bf-e30f-32287d6d839a"
      },
      "execution_count": null,
      "outputs": [
        {
          "output_type": "stream",
          "name": "stdout",
          "text": [
            "3.5 is float\n"
          ]
        }
      ]
    },
    {
      "cell_type": "markdown",
      "source": [
        "# Task 2a\n",
        "Define a variable **customer** that points to a string with the customer's name, Charlene.\n",
        "\n",
        "Print the customer's name using print(customer)"
      ],
      "metadata": {
        "id": "XHbK5vGrycvU"
      }
    },
    {
      "cell_type": "code",
      "source": [
        "customer = \"Charlene\"\n",
        "print(customer)"
      ],
      "metadata": {
        "id": "NW5j7WZ_y604",
        "colab": {
          "base_uri": "https://localhost:8080/"
        },
        "outputId": "8c6515b5-b114-4e89-b285-d39abfec018d"
      },
      "execution_count": null,
      "outputs": [
        {
          "output_type": "stream",
          "name": "stdout",
          "text": [
            "Charlene\n"
          ]
        }
      ]
    },
    {
      "cell_type": "markdown",
      "source": [
        "# Task 2b\n",
        "Check the data type of customer"
      ],
      "metadata": {
        "id": "rqi5fTVozocO"
      }
    },
    {
      "cell_type": "code",
      "source": [
        "type(customer)"
      ],
      "metadata": {
        "id": "rDhc3ttLzjCN",
        "colab": {
          "base_uri": "https://localhost:8080/"
        },
        "outputId": "83a60c11-c6de-4f80-c4f4-e7ff4014cdd6"
      },
      "execution_count": null,
      "outputs": [
        {
          "output_type": "execute_result",
          "data": {
            "text/plain": [
              "str"
            ]
          },
          "metadata": {},
          "execution_count": 62
        }
      ]
    },
    {
      "cell_type": "markdown",
      "source": [
        "# Task 2c\n",
        "Set up a comparison statement using == to test if the customer is Charlene.\n",
        "\n",
        "Your code should return True."
      ],
      "metadata": {
        "id": "XuM8gGRmzyz0"
      }
    },
    {
      "cell_type": "code",
      "source": [
        "customer == \"Charlene\""
      ],
      "metadata": {
        "id": "m-69lURK0NIp",
        "colab": {
          "base_uri": "https://localhost:8080/"
        },
        "outputId": "6d897871-74ce-42d7-b329-9d06384c7862"
      },
      "execution_count": null,
      "outputs": [
        {
          "output_type": "execute_result",
          "data": {
            "text/plain": [
              "True"
            ]
          },
          "metadata": {},
          "execution_count": 64
        }
      ]
    },
    {
      "cell_type": "markdown",
      "source": [
        "# Task 2d\n",
        "Set up a compararison statement using == to test if the customer is Bob.\n",
        "\n",
        "Your code should return False."
      ],
      "metadata": {
        "id": "Ox9QmPr-0NlO"
      }
    },
    {
      "cell_type": "code",
      "source": [
        "customer == \"Bob\"\n"
      ],
      "metadata": {
        "id": "BvWaCs5R0SO-",
        "colab": {
          "base_uri": "https://localhost:8080/"
        },
        "outputId": "40b3df58-5cd1-4f6a-d795-88b93750e705"
      },
      "execution_count": null,
      "outputs": [
        {
          "output_type": "execute_result",
          "data": {
            "text/plain": [
              "False"
            ]
          },
          "metadata": {},
          "execution_count": 67
        }
      ]
    }
  ]
}